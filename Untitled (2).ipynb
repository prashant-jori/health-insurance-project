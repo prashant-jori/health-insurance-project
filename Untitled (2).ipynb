{
 "cells": [
  {
   "cell_type": "markdown",
   "id": "e63c06f6",
   "metadata": {},
   "source": [
    "# Import Liberieas And dataset"
   ]
  },
  {
   "cell_type": "code",
   "execution_count": null,
   "id": "5d23ed3f",
   "metadata": {},
   "outputs": [],
   "source": [
    "import pandas as pd\n",
    "data = pd.read_csv('insurance.csv')"
   ]
  },
  {
   "cell_type": "markdown",
   "id": "c7ced9f2",
   "metadata": {},
   "source": [
    "# 1.Display the top 5 rows of dataset"
   ]
  },
  {
   "cell_type": "code",
   "execution_count": null,
   "id": "03aa3467",
   "metadata": {},
   "outputs": [],
   "source": [
    "data.head()"
   ]
  },
  {
   "cell_type": "markdown",
   "id": "97f54d67",
   "metadata": {},
   "source": [
    "# 1.Display the Last 5 Rows of dataset"
   ]
  },
  {
   "cell_type": "code",
   "execution_count": null,
   "id": "79686c97",
   "metadata": {},
   "outputs": [],
   "source": [
    "data.tail()"
   ]
  },
  {
   "cell_type": "markdown",
   "id": "88b92f05",
   "metadata": {},
   "source": [
    "# 3.Find the shape of our dataset(Number of rows and Number of coloumns)"
   ]
  },
  {
   "cell_type": "code",
   "execution_count": null,
   "id": "82f84b7a",
   "metadata": {},
   "outputs": [],
   "source": [
    "data.shape"
   ]
  },
  {
   "cell_type": "code",
   "execution_count": null,
   "id": "31495d24",
   "metadata": {},
   "outputs": [],
   "source": [
    "print(\"Number of Rows\",data.shape[0])\n",
    "print(\"Number of Columns\",data.shape[1])"
   ]
  },
  {
   "cell_type": "markdown",
   "id": "261f5153",
   "metadata": {},
   "source": [
    "# 4.Get information about Our Dataset like Total Number Rows ,total number columns,Datatypes of Each Column And memory Requirement"
   ]
  },
  {
   "cell_type": "code",
   "execution_count": null,
   "id": "1365dd68",
   "metadata": {},
   "outputs": [],
   "source": [
    "data.info()"
   ]
  },
  {
   "cell_type": "markdown",
   "id": "ac3400cc",
   "metadata": {},
   "source": [
    "# 5.Checks null value In the Dataset"
   ]
  },
  {
   "cell_type": "code",
   "execution_count": null,
   "id": "e87f1378",
   "metadata": {},
   "outputs": [],
   "source": [
    "data.isnull().sum()"
   ]
  },
  {
   "cell_type": "markdown",
   "id": "9b1fbe8f",
   "metadata": {},
   "source": [
    "# 6.Get overall stastics About in The Dataset"
   ]
  },
  {
   "cell_type": "code",
   "execution_count": null,
   "id": "f895093e",
   "metadata": {},
   "outputs": [],
   "source": [
    "data.describe()"
   ]
  },
  {
   "cell_type": "markdown",
   "id": "818b20b4",
   "metadata": {},
   "source": [
    "# 7.Convert Columns From String ['sex','smoker','region']To numerical Value"
   ]
  },
  {
   "cell_type": "code",
   "execution_count": null,
   "id": "0d65291f",
   "metadata": {},
   "outputs": [],
   "source": [
    "data.head()\n"
   ]
  },
  {
   "cell_type": "code",
   "execution_count": null,
   "id": "e75a702a",
   "metadata": {},
   "outputs": [],
   "source": [
    "data['sex'].unique()"
   ]
  },
  {
   "cell_type": "code",
   "execution_count": null,
   "id": "ab31a6ed",
   "metadata": {},
   "outputs": [],
   "source": [
    "data.sex = data['sex'].map({'female':0,'male':1})"
   ]
  },
  {
   "cell_type": "code",
   "execution_count": null,
   "id": "a650f1aa",
   "metadata": {},
   "outputs": [],
   "source": [
    "data.head()"
   ]
  },
  {
   "cell_type": "code",
   "execution_count": null,
   "id": "43aca819",
   "metadata": {},
   "outputs": [],
   "source": [
    "data.smoker = data['smoker'].map({'yes':1,'no':0})"
   ]
  },
  {
   "cell_type": "code",
   "execution_count": null,
   "id": "55c472dc",
   "metadata": {},
   "outputs": [],
   "source": [
    "data.head()"
   ]
  },
  {
   "cell_type": "code",
   "execution_count": null,
   "id": "f5c465ff",
   "metadata": {},
   "outputs": [],
   "source": [
    "data['region'].unique()"
   ]
  },
  {
   "cell_type": "code",
   "execution_count": null,
   "id": "0d9a195b",
   "metadata": {},
   "outputs": [],
   "source": [
    "data.region = data['region'].map({'southwest':1,'southeast':2,'northwest':3,'northeast':4,})"
   ]
  },
  {
   "cell_type": "code",
   "execution_count": null,
   "id": "0ab1ae1c",
   "metadata": {},
   "outputs": [],
   "source": [
    "data.head()"
   ]
  },
  {
   "cell_type": "markdown",
   "id": "4b21a596",
   "metadata": {},
   "source": [
    "# 8.Store the future matrix In x and Response (Target) In vector y "
   ]
  },
  {
   "cell_type": "code",
   "execution_count": null,
   "id": "036a01c3",
   "metadata": {},
   "outputs": [],
   "source": [
    "data.columns"
   ]
  },
  {
   "cell_type": "code",
   "execution_count": null,
   "id": "ad960b65",
   "metadata": {},
   "outputs": [],
   "source": [
    "X = data.drop(['charges'],axis=1)"
   ]
  },
  {
   "cell_type": "code",
   "execution_count": null,
   "id": "8b7c1e58",
   "metadata": {},
   "outputs": [],
   "source": [
    "y = data['charges']"
   ]
  },
  {
   "cell_type": "markdown",
   "id": "f9108250",
   "metadata": {},
   "source": [
    "# 9.Train/Test split\n",
    "1.split data into two part:a training set and a testing set\n",
    "2.Train the model(s) on training set\n",
    "3.Test the model(s) on testing set"
   ]
  },
  {
   "cell_type": "code",
   "execution_count": null,
   "id": "4074c1aa",
   "metadata": {},
   "outputs": [],
   "source": [
    "from sklearn.model_selection import train_test_split\n"
   ]
  },
  {
   "cell_type": "code",
   "execution_count": null,
   "id": "ad074559",
   "metadata": {},
   "outputs": [],
   "source": [
    "X_train,X_test,y_train,y_test=train_test_split(X,y,test_size=0.2,random_state=42)"
   ]
  },
  {
   "cell_type": "code",
   "execution_count": null,
   "id": "812a4448",
   "metadata": {},
   "outputs": [],
   "source": [
    "X_test"
   ]
  },
  {
   "cell_type": "code",
   "execution_count": null,
   "id": "95ca8097",
   "metadata": {},
   "outputs": [],
   "source": [
    "y_train"
   ]
  },
  {
   "cell_type": "markdown",
   "id": "e07509d2",
   "metadata": {},
   "source": [
    "# 10.Import the models"
   ]
  },
  {
   "cell_type": "code",
   "execution_count": null,
   "id": "9e731a37",
   "metadata": {},
   "outputs": [],
   "source": [
    "from sklearn.linear_model import LinearRegression\n",
    "from sklearn.svm import SVR\n",
    "from sklearn.ensemble import RandomForestRegressor\n",
    "from sklearn.ensemble import GradientBoostingRegressor"
   ]
  },
  {
   "cell_type": "markdown",
   "id": "3832ceea",
   "metadata": {},
   "source": [
    "# 11.Model Training"
   ]
  },
  {
   "cell_type": "code",
   "execution_count": null,
   "id": "26b0b039",
   "metadata": {},
   "outputs": [],
   "source": [
    "lr = LinearRegression()\n",
    "lr.fit(X_train,y_train)\n",
    "svm = SVR()\n",
    "svm.fit(X_train,y_train)\n",
    "rf = RandomForestRegressor()\n",
    "rf.fit(X_train,y_train)\n",
    "gr = GradientBoostingRegressor()\n",
    "gr.fit(X_train,y_train)\n",
    "\n"
   ]
  },
  {
   "cell_type": "markdown",
   "id": "b4d7c84a",
   "metadata": {},
   "source": [
    "# 12.Prediction on Test Data"
   ]
  },
  {
   "cell_type": "code",
   "execution_count": null,
   "id": "6c25bf6e",
   "metadata": {},
   "outputs": [],
   "source": [
    "y_pred1 = lr.predict(X_test)\n",
    "y_pred2 = svm.predict(X_test)\n",
    "y_pred3 = rf.predict(X_test)\n",
    "y_pred4 = gr.predict(X_test)\n",
    "\n",
    "df1 = pd.DataFrame ({'Actual':y_test,'Lr':y_pred1,'svm':y_pred2,'rf':y_pred3,'gr':y_pred4})"
   ]
  },
  {
   "cell_type": "code",
   "execution_count": null,
   "id": "da0373ea",
   "metadata": {},
   "outputs": [],
   "source": [
    "df1"
   ]
  },
  {
   "cell_type": "markdown",
   "id": "9f4d1a03",
   "metadata": {},
   "source": [
    "# 13.Compare Performance Visually"
   ]
  },
  {
   "cell_type": "code",
   "execution_count": null,
   "id": "05614b45",
   "metadata": {},
   "outputs": [],
   "source": [
    "import matplotlib.pyplot as plt"
   ]
  },
  {
   "cell_type": "code",
   "execution_count": null,
   "id": "094ed957",
   "metadata": {},
   "outputs": [],
   "source": [
    "plt.subplot(221)\n",
    "plt.plot(df1['Actual'].iloc[0:11],label='Actual')\n",
    "plt.plot(df1['Lr'].iloc[0:11],label='Lr')\n",
    "plt.legend()\n",
    "\n",
    "plt.subplot(222)\n",
    "plt.plot(df1['Actual'].iloc[0:11],label='Actual')\n",
    "plt.plot(df1['svm'].iloc[0:11],label='svm')\n",
    "plt.legend()\n",
    "\n",
    "plt.subplot(223)\n",
    "plt.plot(df1['Actual'].iloc[0:11],label='Actual')\n",
    "plt.plot(df1['rf'].iloc[0:11],label='rf')\n",
    "plt.legend()\n",
    "\n",
    "plt.subplot(224)\n",
    "plt.plot(df1['Actual'].iloc[0:11],label='Actual')\n",
    "plt.plot(df1['gr'].iloc[0:11],label='gr')\n",
    "\n",
    "plt.tight_layout()\n",
    "plt.legend()"
   ]
  },
  {
   "cell_type": "markdown",
   "id": "34ca8917",
   "metadata": {},
   "source": [
    "# Evaluting the modek"
   ]
  },
  {
   "cell_type": "code",
   "execution_count": null,
   "id": "4cd1f58c",
   "metadata": {},
   "outputs": [],
   "source": [
    "from sklearn import metrics\n"
   ]
  },
  {
   "cell_type": "code",
   "execution_count": null,
   "id": "618c41da",
   "metadata": {},
   "outputs": [],
   "source": [
    "score1 = metrics.r2_score(y_test,y_pred1)\n",
    "score2 = metrics.r2_score(y_test,y_pred2)\n",
    "score3 = metrics.r2_score(y_test,y_pred3)\n",
    "score4 = metrics.r2_score(y_test,y_pred4)\n",
    "\n"
   ]
  },
  {
   "cell_type": "code",
   "execution_count": null,
   "id": "6d0ba598",
   "metadata": {},
   "outputs": [],
   "source": [
    "print(score1,score2,score3,score4)"
   ]
  },
  {
   "cell_type": "code",
   "execution_count": null,
   "id": "b75fe03e",
   "metadata": {},
   "outputs": [],
   "source": [
    "s1 = metrics.mean_absolute_error(y_test,y_pred1)\n",
    "s2 = metrics.mean_absolute_error(y_test,y_pred2)\n",
    "s3 = metrics.mean_absolute_error(y_test,y_pred3)\n",
    "s4 = metrics.mean_absolute_error(y_test,y_pred4)"
   ]
  },
  {
   "cell_type": "code",
   "execution_count": null,
   "id": "6e61633c",
   "metadata": {},
   "outputs": [],
   "source": [
    "print(s1,s2,s3,s4)"
   ]
  },
  {
   "cell_type": "markdown",
   "id": "0b9655e3",
   "metadata": {},
   "source": [
    "# Predict charges for new customer"
   ]
  },
  {
   "cell_type": "code",
   "execution_count": null,
   "id": "7b4be34f",
   "metadata": {},
   "outputs": [],
   "source": [
    "data = {'age':40,\n",
    "       'sex':1,\n",
    "       'bmi':40.30,\n",
    "       'childern':4,\n",
    "       'smoker':1,\n",
    "       'region':2}\n",
    "df = pd.DataFrame(data,index=[0])\n",
    "df"
   ]
  },
  {
   "cell_type": "code",
   "execution_count": null,
   "id": "d7e56125",
   "metadata": {},
   "outputs": [],
   "source": [
    "new_pred = gr.predict(df)\n",
    "print(new_pred)"
   ]
  },
  {
   "cell_type": "markdown",
   "id": "04231ee4",
   "metadata": {},
   "source": [
    "# save model using joblib"
   ]
  },
  {
   "cell_type": "code",
   "execution_count": null,
   "id": "273886c3",
   "metadata": {},
   "outputs": [],
   "source": [
    "gr = GradientBoostingRegressor()\n",
    "\n",
    "gr.fit(X,y)"
   ]
  },
  {
   "cell_type": "code",
   "execution_count": null,
   "id": "f7fcac28",
   "metadata": {},
   "outputs": [],
   "source": [
    "import joblib\n"
   ]
  },
  {
   "cell_type": "code",
   "execution_count": null,
   "id": "2a14ddcc",
   "metadata": {},
   "outputs": [],
   "source": [
    "joblib.dump(gr,'model_joblib_gr')"
   ]
  },
  {
   "cell_type": "code",
   "execution_count": null,
   "id": "8ff35534",
   "metadata": {},
   "outputs": [],
   "source": [
    "model = joblib.load('model_joblib_gr')"
   ]
  },
  {
   "cell_type": "code",
   "execution_count": null,
   "id": "457c36b1",
   "metadata": {},
   "outputs": [],
   "source": [
    "model.predict(df)"
   ]
  },
  {
   "cell_type": "markdown",
   "id": "3571cc2a",
   "metadata": {},
   "source": [
    "# GUI\n"
   ]
  },
  {
   "cell_type": "code",
   "execution_count": null,
   "id": "d49c5a74",
   "metadata": {},
   "outputs": [],
   "source": [
    "from tkinter import*"
   ]
  },
  {
   "cell_type": "code",
   "execution_count": null,
   "id": "dbc733ae",
   "metadata": {},
   "outputs": [],
   "source": [
    "import joblib"
   ]
  },
  {
   "cell_type": "code",
   "execution_count": null,
   "id": "9f8f6d65",
   "metadata": {},
   "outputs": [],
   "source": [
    "def show_entry():\n",
    "    p1 = float(e1.get())\n",
    "    p2 = float(e2.get())\n",
    "    p3 = float(e3.get())\n",
    "    p4 = float(e4.get())\n",
    "    p5 = float(e5.get())\n",
    "    p6 = float(e6.get())\n",
    "    \n",
    "    mode.joblib('model_joblib_gr')\n",
    "    result = model.predict([[p1,p2,p3,p4,p5,p6]])\n",
    "    \n",
    "    Label(master,text =\"Insurance cost\").grid(row=7)\n",
    "    Label(master,text =result).grid(row=8)\n",
    "\n",
    "master = Tk()\n",
    "master.title(\"Insurance cost Prediction\")\n",
    "label = Label(master,text=\"Insurance Cost Prediction\",bg=\"black\",fg =\"white\").grid(row=0,columns=2)\n",
    "\n",
    "\n",
    "Label(master,text = \"Enter Your Age\").grid(row=1)\n",
    "Label(master,text = \"Mail or Female [1/0]\").grid(row=2)\n",
    "Label(master,text = \"Enter Your BMI Value\").grid(row=3)\n",
    "Label(master,text = \"Enter Number of Children\").grid(row=4)\n",
    "Label(master,text = \"Smoker Yes/No [1/0]\").grid(row=5)\n",
    "Label(master,text = \"Region [1-0]\").grid(row=6)\n",
    "\n",
    "e1 = Entry(master)\n",
    "e2 = Entry(master)\n",
    "e3 = Entry(master)\n",
    "e4 = Entry(master)\n",
    "e5 = Entry(master)\n",
    "e6 = Entry(master)\n",
    "\n",
    "e1.grid(row=1,column=1)\n",
    "e2.grid(row=2,column=1)\n",
    "e3.grid(row=3,column=1)\n",
    "e4.grid(row=4,column=1)\n",
    "e5.grid(row=5,column=1)\n",
    "e6.grid(row=6,column=1)\n",
    "\n",
    "Button(master,text=\"Predict\",command=show_entry).grid()\n",
    "\n",
    "mainloop()"
   ]
  },
  {
   "cell_type": "code",
   "execution_count": null,
   "id": "a6c8c393",
   "metadata": {},
   "outputs": [],
   "source": []
  },
  {
   "cell_type": "code",
   "execution_count": null,
   "id": "9ae68ece",
   "metadata": {},
   "outputs": [],
   "source": []
  },
  {
   "cell_type": "code",
   "execution_count": null,
   "id": "8531a02f",
   "metadata": {},
   "outputs": [],
   "source": []
  }
 ],
 "metadata": {
  "kernelspec": {
   "display_name": "Python 3 (ipykernel)",
   "language": "python",
   "name": "python3"
  },
  "language_info": {
   "codemirror_mode": {
    "name": "ipython",
    "version": 3
   },
   "file_extension": ".py",
   "mimetype": "text/x-python",
   "name": "python",
   "nbconvert_exporter": "python",
   "pygments_lexer": "ipython3",
   "version": "3.10.9"
  }
 },
 "nbformat": 4,
 "nbformat_minor": 5
}
